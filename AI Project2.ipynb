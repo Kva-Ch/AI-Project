{
  "nbformat": 4,
  "nbformat_minor": 0,
  "metadata": {
    "colab": {
      "name": "Untitled.ipynb",
      "provenance": [],
      "collapsed_sections": [],
      "include_colab_link": true
    },
    "kernelspec": {
      "name": "python3",
      "display_name": "Python 3"
    },
    "language_info": {
      "name": "python"
    }
  },
  "cells": [
    {
      "cell_type": "markdown",
      "metadata": {
        "id": "view-in-github",
        "colab_type": "text"
      },
      "source": [
        "<a href=\"https://colab.research.google.com/github/Kva-Ch/AI-Project/blob/main/AI%20Project2.ipynb\" target=\"_parent\"><img src=\"https://colab.research.google.com/assets/colab-badge.svg\" alt=\"Open In Colab\"/></a>"
      ]
    },
    {
      "cell_type": "markdown",
      "metadata": {
        "id": "NXVZPlk-m_hG"
      },
      "source": [
        "<p1>Training the Baye's Classifier<p1>"
      ]
    },
    {
      "cell_type": "code",
      "metadata": {
        "id": "iaaB3dXDi6xZ",
        "colab": {
          "base_uri": "https://localhost:8080/"
        },
        "outputId": "2fac8aee-f99e-45e4-9703-c0ec1bfb8e96"
      },
      "source": [
        "import nltk\n",
        "from pandas import DataFrame as df\n",
        "import pandas as pd\n",
        "from collections import defaultdict\n",
        "content = [\"[02/07/2017, 5:47:33 pm] Person_1: Hey there! This is the first message\",\n",
        " \"[02/07/2017, 5:48:24 pm] Person_1: This is the second message\",\n",
        " \"[02/07/2017, 5:48:44 pm] Person_1: Third…\",\n",
        " \"[02/07/2017, 8:10:52 pm] Person_2: Hey Person_1! This is the fourth message\",\n",
        " \"[02/07/2017, 8:14:11 pm] Person_2: Fifth …etc\"]\n",
        "ppl=defaultdict(list)\n",
        "\n",
        "for line in content:\n",
        "    try:\n",
        "        person = line.split(':')[2][7:]\n",
        "        text = nltk.sent_tokenize(':'.join(line.split(':')[3:]))\n",
        "        ppl[person].extend(text)   # If key exists (person), extend list with value (text),\n",
        "                                   # if not create a new key, with value added to list\n",
        "    except:\n",
        "        print(line)  # in case reading a line fails, examine why\n",
        "        pass\n",
        "nltk.download('nps_chat')\n",
        "nltk.download('punkt')\n",
        "posts = nltk.corpus.nps_chat.xml_posts()\n",
        "\n",
        "def extract_features(post):\n",
        "    features = {}\n",
        "    for word in nltk.word_tokenize(post):\n",
        "        features['contains({})'.format(word.lower())] = True\n",
        "    return features\n",
        "\n",
        "fposts = [(extract_features(p.text), p.get('class')) for p in posts]\n",
        "test_size = int(len(fposts) * 0.1)\n",
        "train_set, test_set = fposts[test_size:], fposts[:test_size]\n",
        "classifier = nltk.NaiveBayesClassifier.train(train_set)\n",
        "print(classifier.classify(extract_features('Hi there!')))\n",
        "print(classifier.classify(extract_features(input())))"
      ],
      "execution_count": null,
      "outputs": [
        {
          "output_type": "stream",
          "text": [
            "[nltk_data] Downloading package nps_chat to /root/nltk_data...\n",
            "[nltk_data]   Package nps_chat is already up-to-date!\n",
            "[nltk_data] Downloading package punkt to /root/nltk_data...\n",
            "[nltk_data]   Package punkt is already up-to-date!\n",
            "Greet\n"
          ],
          "name": "stdout"
        }
      ]
    },
    {
      "cell_type": "code",
      "metadata": {
        "colab": {
          "base_uri": "https://localhost:8080/"
        },
        "id": "mMUJO9n7trdm",
        "outputId": "9b52a046-0c43-406d-9f16-36d1a272a7bd"
      },
      "source": [
        "f=open(\"/content/WhatsApp_Chat_with_Test_dataset.txt\",'r')\n",
        "content={}\n",
        "for s in f.readlines():\n",
        "\tminus_find=s.index('-')+2\n",
        "\ttry:\n",
        "\t\tcolon_find=minus_find+s[minus_find:].index(\":\")\n",
        "\texcept ValueError:\n",
        "\t\tcontinue\n",
        "\t# if \n",
        "\tperson_name=s[minus_find:colon_find]\n",
        "\tif person_name in content.keys():\n",
        "\t\tcontent[person_name].append(s[colon_find+1:])\n",
        "\telse:\n",
        "\t\tcontent[person_name]=[s[colon_find+1:]]\n",
        "print(content)"
      ],
      "execution_count": null,
      "outputs": [
        {
          "output_type": "stream",
          "text": [
            "{'KvaCh': [' Hey there\\n', ' Third message test\\n', ' Hello u there?\\n', ' Okay cool!\\n', \" Yeah why won't i\\n\", \" Don't you eat it\\n\", ' Are u a new born kid?\\n', ' Nice to know\\n', ' Will get u a nice juicy grass for your birthday\\n', ' Hey there\\n', ' Third message test\\n', ' Hello u there?\\n', ' Okay cool!\\n', \" Yeah why won't i\\n\", \" Don't you eat it\\n\", ' Are u a new born kid?\\n', ' Nice to know\\n', ' Will get u a nice juicy grass for your birthday\\n'], 'Shuruth@vce': [' hello this is 2nd messgae\\n', ' yes i am there\\n', ' i am fine\\n', ' will you go to movie\\n', ' will you eat food\\n', ' who are you\\n', ' where are you\\n', ' what is your name\\n', ' i dont eat food\\n', ' i eat grass\\n', ' i dont know no idea\\n', ' hello this is 2nd messgae\\n', ' yes i am there\\n', ' i am fine\\n', ' will you go to movie\\n', ' will you eat food\\n', ' who are you\\n', ' where are you\\n', ' what is your name\\n', ' i dont eat food\\n', ' i eat grass\\n', ' i dont know no idea\\n'], 'mathur': [' i am good\\n', ' Nice to hear\\n', ' i am good\\n', ' Nice to hear\\n']}\n"
          ],
          "name": "stdout"
        }
      ]
    },
    {
      "cell_type": "markdown",
      "metadata": {
        "id": "ZVa1ip7muQde"
      },
      "source": [
        ""
      ]
    },
    {
      "cell_type": "code",
      "metadata": {
        "colab": {
          "base_uri": "https://localhost:8080/",
          "height": 855
        },
        "id": "Z8TQnZaywYAF",
        "outputId": "30ba779e-0b60-4a96-c78e-91e5c4faec1a"
      },
      "source": [
        "import matplotlib.pyplot as plt\n",
        "\n",
        "categories=[\"Greet\",\"Statement\",\"Clarify\",\"whQuestion\",\"Emphasis\",\"ynQuestion\",\"nAnswer\",\"yAnswer\",\"Other\",\"Bye\",\"Emotion\",\"System\",\"Accept\",\"Continuer\"]\n",
        "analysed_data={}\n",
        "for i in categories:\n",
        "  analysed_data[i]=[0 for i in range(len(content.keys()))]\n",
        "for i in range(len(content.keys())):\n",
        "  keys=list(content.keys())\n",
        "  for s in content[keys[i]]:\n",
        "    analysed_data[classifier.classify(extract_features(s))][i]+=1\n",
        "print(analysed_data)\n",
        "\n",
        "df= pd.DataFrame(analysed_data,index=list(content.keys()))\n",
        "df=df.transpose()\n",
        "ax=df.plot(kind=\"bar\")\n",
        "ax.set_title(\"Frequency of Message Categories\", fontsize= 18)\n",
        "ax.set_xlabel(\"Message Category\", fontsize=14)\n",
        "ax.set_ylabel(\"Frequency\", fontsize=14)\n",
        "plt.show()\n",
        "display(df)"
      ],
      "execution_count": null,
      "outputs": [
        {
          "output_type": "stream",
          "text": [
            "{'Greet': [2, 0, 0], 'Statement': [6, 6, 4], 'Clarify': [2, 0, 0], 'whQuestion': [0, 6, 0], 'Emphasis': [2, 4, 0], 'ynQuestion': [4, 2, 0], 'nAnswer': [0, 2, 0], 'yAnswer': [2, 2, 0], 'Other': [0, 0, 0], 'Bye': [0, 0, 0], 'Emotion': [0, 0, 0], 'System': [0, 0, 0], 'Accept': [0, 0, 0], 'Continuer': [0, 0, 0]}\n"
          ],
          "name": "stdout"
        },
        {
          "output_type": "display_data",
          "data": {
            "image/png": "[encoded data removed]",
            "text/plain": [
              "<Figure size 432x288 with 1 Axes>"
            ]
          },
          "metadata": {
            "tags": [],
            "needs_background": "light"
          }
        },
        {
          "output_type": "display_data",
          "data": {
            "text/html": [
              "<div>\n",
              "<style scoped>\n",
              "    .dataframe tbody tr th:only-of-type {\n",
              "        vertical-align: middle;\n",
              "    }\n",
              "\n",
              "    .dataframe tbody tr th {\n",
              "        vertical-align: top;\n",
              "    }\n",
              "\n",
              "    .dataframe thead th {\n",
              "        text-align: right;\n",
              "    }\n",
              "</style>\n",
              "<table border=\"1\" class=\"dataframe\">\n",
              "  <thead>\n",
              "    <tr style=\"text-align: right;\">\n",
              "      <th></th>\n",
              "      <th>KvaCh</th>\n",
              "      <th>Shuruth@vce</th>\n",
              "      <th>mathur</th>\n",
              "    </tr>\n",
              "  </thead>\n",
              "  <tbody>\n",
              "    <tr>\n",
              "      <th>Greet</th>\n",
              "      <td>2</td>\n",
              "      <td>0</td>\n",
              "      <td>0</td>\n",
              "    </tr>\n",
              "    <tr>\n",
              "      <th>Statement</th>\n",
              "      <td>6</td>\n",
              "      <td>6</td>\n",
              "      <td>4</td>\n",
              "    </tr>\n",
              "    <tr>\n",
              "      <th>Clarify</th>\n",
              "      <td>2</td>\n",
              "      <td>0</td>\n",
              "      <td>0</td>\n",
              "    </tr>\n",
              "    <tr>\n",
              "      <th>whQuestion</th>\n",
              "      <td>0</td>\n",
              "      <td>6</td>\n",
              "      <td>0</td>\n",
              "    </tr>\n",
              "    <tr>\n",
              "      <th>Emphasis</th>\n",
              "      <td>2</td>\n",
              "      <td>4</td>\n",
              "      <td>0</td>\n",
              "    </tr>\n",
              "    <tr>\n",
              "      <th>ynQuestion</th>\n",
              "      <td>4</td>\n",
              "      <td>2</td>\n",
              "      <td>0</td>\n",
              "    </tr>\n",
              "    <tr>\n",
              "      <th>nAnswer</th>\n",
              "      <td>0</td>\n",
              "      <td>2</td>\n",
              "      <td>0</td>\n",
              "    </tr>\n",
              "    <tr>\n",
              "      <th>yAnswer</th>\n",
              "      <td>2</td>\n",
              "      <td>2</td>\n",
              "      <td>0</td>\n",
              "    </tr>\n",
              "    <tr>\n",
              "      <th>Other</th>\n",
              "      <td>0</td>\n",
              "      <td>0</td>\n",
              "      <td>0</td>\n",
              "    </tr>\n",
              "    <tr>\n",
              "      <th>Bye</th>\n",
              "      <td>0</td>\n",
              "      <td>0</td>\n",
              "      <td>0</td>\n",
              "    </tr>\n",
              "    <tr>\n",
              "      <th>Emotion</th>\n",
              "      <td>0</td>\n",
              "      <td>0</td>\n",
              "      <td>0</td>\n",
              "    </tr>\n",
              "    <tr>\n",
              "      <th>System</th>\n",
              "      <td>0</td>\n",
              "      <td>0</td>\n",
              "      <td>0</td>\n",
              "    </tr>\n",
              "    <tr>\n",
              "      <th>Accept</th>\n",
              "      <td>0</td>\n",
              "      <td>0</td>\n",
              "      <td>0</td>\n",
              "    </tr>\n",
              "    <tr>\n",
              "      <th>Continuer</th>\n",
              "      <td>0</td>\n",
              "      <td>0</td>\n",
              "      <td>0</td>\n",
              "    </tr>\n",
              "  </tbody>\n",
              "</table>\n",
              "</div>"
            ],
            "text/plain": [
              "            KvaCh  Shuruth@vce  mathur\n",
              "Greet           2            0       0\n",
              "Statement       6            6       4\n",
              "Clarify         2            0       0\n",
              "whQuestion      0            6       0\n",
              "Emphasis        2            4       0\n",
              "ynQuestion      4            2       0\n",
              "nAnswer         0            2       0\n",
              "yAnswer         2            2       0\n",
              "Other           0            0       0\n",
              "Bye             0            0       0\n",
              "Emotion         0            0       0\n",
              "System          0            0       0\n",
              "Accept          0            0       0\n",
              "Continuer       0            0       0"
            ]
          },
          "metadata": {
            "tags": []
          }
        }
      ]
    }
  ]
}