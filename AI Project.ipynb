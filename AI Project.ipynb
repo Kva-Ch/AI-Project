{
  "nbformat": 4,
  "nbformat_minor": 0,
  "metadata": {
    "colab": {
      "name": "Copy of Untitled1.ipynb",
      "provenance": [],
      "collapsed_sections": [],
      "authorship_tag": "ABX9TyNRDNOnkpyopbdTbclCRNPZ",
      "include_colab_link": true
    },
    "kernelspec": {
      "name": "python3",
      "display_name": "Python 3"
    },
    "language_info": {
      "name": "python"
    }
  },
  "cells": [
    {
      "cell_type": "markdown",
      "metadata": {
        "id": "view-in-github",
        "colab_type": "text"
      },
      "source": [
        "<a href=\"https://colab.research.google.com/github/Kva-Ch/AI-Project/blob/main/AI%20Project.ipynb\" target=\"_parent\"><img src=\"https://colab.research.google.com/assets/colab-badge.svg\" alt=\"Open In Colab\"/></a>"
      ]
    },
    {
      "cell_type": "code",
      "metadata": {
        "colab": {
          "base_uri": "https://localhost:8080/",
          "height": 544
        },
        "id": "qNIk67SdsZeP",
        "outputId": "baf3087d-23b4-432a-a5e3-9c94b9e8b093"
      },
      "source": [
        "import nltk\n",
        "from pandas import DataFrame as df\n",
        "from collections import defaultdict\n",
        "import pandas as pd\n",
        "import matplotlib.pyplot as plt\n",
        "import numpy as np\n",
        "\n",
        "#inputdata ie., exportedchat\n",
        "content = [\"[02/07/2017, 5:47:33 pm] Person_1: Hey there! This is the first message\",\n",
        " \"[02/07/2017, 5:48:24 pm] Person_1: This is the second message\",\n",
        " \"[02/07/2017, 5:48:44 pm] Person_1: Third…\",\n",
        " \"[02/07/2017, 8:10:52 pm] Person_2: Hey Person_1! This is the fourth message\",\n",
        " \"[02/07/2017, 8:14:11 pm] Person_2: Fifth …etc\",\n",
        " \"29/05/21, 2:14 am - Shuruth@vce: will you go to movie\",\n",
        " \"29/05/21, 2:14 am - Shuruth@vce: will you eat food\",\n",
        " \"29/05/21, 2:14 am - Shuruth@vce: who are you\",\n",
        " \"29/05/21, 2:14 am - KvaCh: Yeah why won't i\",\n",
        " \"29/05/21, 2:14 am - Shuruth@vce: where are you\",\n",
        " \"29/05/21, 2:14 am - KvaCh: Don't you eat it\",\n",
        " \"29/05/21, 2:14 am - Shuruth@vce: what is your name\",\n",
        " \"29/05/21, 2:14 am - Shuruth@vce: i dont eat food\",\n",
        " \"29/05/21, 2:15 am - Shuruth@vce: i eat grass\",\n",
        " \"29/05/21, 2:15 am - KvaCh: Are u a new born kid?\"]\n",
        "ppl=defaultdict(list)\n",
        "\n",
        "for line in content:\n",
        "    try:\n",
        "        person = line.split(':')[2][7:]\n",
        "        text = nltk.sent_tokenize(':'.join(line.split(':')[3:]))\n",
        "        ppl[person].extend(text)   # If key exists (person), extend list with value (text),\n",
        "                                   # if not create a new key, with value added to list\n",
        "    except:\n",
        "        print(line)  # in case reading a line fails, examine why\n",
        "        pass\n",
        "nltk.download('nps_chat')\n",
        "nltk.download('punkt')\n",
        "posts = nltk.corpus.nps_chat.xml_posts()\n",
        "\n",
        "def extract_features(post):\n",
        "    features = {}\n",
        "    for word in nltk.word_tokenize(post):\n",
        "        features['contains({})'.format(word.lower())] = True\n",
        "    return features\n",
        "\n",
        "fposts = [(extract_features(p.text), p.get('class')) for p in posts]\n",
        "test_size = int(len(fposts) * 0.1)\n",
        "train_set, test_set = fposts[test_size:], fposts[:test_size]\n",
        "classifier = nltk.NaiveBayesClassifier.train(train_set)\n",
        "print(classifier.classify(extract_features('Hi there!')))\n",
        "print(classifier.classify(extract_features('film later')))\n",
        "\n",
        "# running the model on WhatsApp data for counting \n",
        "#the occurrences of each category of the tokenized conversations:\n",
        "s1= pd.Series([classifier.classify(extract_features(i)) for i in content])\n",
        "dff= pd.DataFrame(s1)\n",
        "dff=dff.apply(pd.value_counts)\n",
        "ax=dff.T.plot(kind='bar', figsize=(10, 7), legend=True, fontsize=16, color=['y','g'])\n",
        "ax.set_xlabel(\"Message Category\")\n",
        "ax.set_ylabel(\"Frequency\")\n",
        "plt.show()"
      ],
      "execution_count": null,
      "outputs": [
        {
          "output_type": "stream",
          "text": [
            "[nltk_data] Downloading package nps_chat to /root/nltk_data...\n",
            "[nltk_data]   Package nps_chat is already up-to-date!\n",
            "[nltk_data] Downloading package punkt to /root/nltk_data...\n",
            "[nltk_data]   Package punkt is already up-to-date!\n",
            "Greet\n",
            "Bye\n"
          ],
          "name": "stdout"
        },
        {
          "output_type": "display_data",
          "data": {
            "image/png": "[encoded data removed]",
            "text/plain": [
              "<Figure size 720x504 with 1 Axes>"
            ]
          },
          "metadata": {
            "tags": [],
            "needs_background": "light"
          }
        }
      ]
    }
  ]
}